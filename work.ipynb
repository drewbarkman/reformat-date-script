{
 "cells": [
  {
   "cell_type": "code",
   "execution_count": 2,
   "id": "8fea71ad",
   "metadata": {},
   "outputs": [],
   "source": [
    "import os"
   ]
  },
  {
   "cell_type": "code",
   "execution_count": 15,
   "id": "bdee9fcb",
   "metadata": {},
   "outputs": [],
   "source": [
    "folder_list = os.listdir()"
   ]
  },
  {
   "cell_type": "code",
   "execution_count": 18,
   "id": "2a54756a",
   "metadata": {},
   "outputs": [
    {
     "name": "stdout",
     "output_type": "stream",
     "text": [
      "12.03.2024\n",
      "12 03 2024 Test2\n",
      "New name: 2024.12.03 | Test2\n",
      "05.26.2025\n",
      "05 26 2025 Test\n",
      "New name: 2025.05.26 | Test\n"
     ]
    }
   ],
   "source": [
    "for folder in folder_list:\n",
    "    try:\n",
    "        int(folder[0])\n",
    "    except:\n",
    "        continue\n",
    "\n",
    "    month = folder[:2]\n",
    "    day = folder[3:5]\n",
    "    year = folder[6:10]\n",
    "    rest = folder[13:]\n",
    "\n",
    "    print(folder[:10])\n",
    "    print(month, day, year, rest)\n",
    "\n",
    "    new_name = f\"{year}.{month}.{day} | {rest}\"\n",
    "    print(f'New name: {new_name}')\n",
    "\n",
    "    os.rename(folder, new_name)"
   ]
  },
  {
   "cell_type": "code",
   "execution_count": null,
   "id": "868b53a6",
   "metadata": {},
   "outputs": [],
   "source": []
  }
 ],
 "metadata": {
  "kernelspec": {
   "display_name": "base",
   "language": "python",
   "name": "python3"
  },
  "language_info": {
   "codemirror_mode": {
    "name": "ipython",
    "version": 3
   },
   "file_extension": ".py",
   "mimetype": "text/x-python",
   "name": "python",
   "nbconvert_exporter": "python",
   "pygments_lexer": "ipython3",
   "version": "3.12.7"
  }
 },
 "nbformat": 4,
 "nbformat_minor": 5
}
